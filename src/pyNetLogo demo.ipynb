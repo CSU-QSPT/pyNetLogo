{
 "cells": [
  {
   "cell_type": "markdown",
   "metadata": {},
   "source": [
    "## NetLogo interaction through the pyNetLogo connector\n",
    "\n",
    "This notebook provides a simple example of interaction between a NetLogo model and the Python environment, using the Wolf Sheep Predation model included in the NetLogo example library (Wilensky, 1999). A more detailed description of the different commands is provided in the paper.\n",
    "\n",
    "We start by instantiating a link to NetLogo, loading the model, and running basic commands to set up the model and run it for 100 ticks."
   ]
  },
  {
   "cell_type": "code",
   "execution_count": null,
   "metadata": {
    "collapsed": false
   },
   "outputs": [],
   "source": [
    "import numpy as np\n",
    "import pandas as pd\n",
    "import matplotlib.pyplot as plt\n",
    "import seaborn as sns\n",
    "\n",
    "import jpype\n",
    "import pyNetLogo\n",
    "\n",
    "netlogo = pyNetLogo.NetLogoLink(gui=True)\n",
    "\n",
    "#By default, the NetLogoLink object will attempt to find a NetLogo installation. We can also specify a custom directory\n",
    "#and version (currently either 5.2 or 6.0):\n",
    "\n",
    "#netlogo = pyNetLogo.NetLogoLink(gui=True, nl_dir=r'C:\\Program Files\\NetLogo 6.0-BETA1', nl_version='6.0')\n",
    "#netlogo = pyNetLogo.NetLogoLink(gui=True, nl_dir=r'C:\\Program Files (x86)\\NetLogo 5.2.1', nl_version='5.2')\n",
    "\n",
    "netlogo.load_model(r'/Wolf Sheep Predation.nlogo')\n",
    "netlogo.command('setup')\n",
    "\n",
    "#We can use either of the following commands to run the model for 100 ticks:\n",
    "netlogo.command('repeat 100 [go]')\n",
    "#netlogo.repeat_command('go', 100)"
   ]
  },
  {
   "cell_type": "markdown",
   "metadata": {},
   "source": [
    "The report function is then used to return arrays to the Python workspace, containing the xcor and ycor coordinates of the \"sheep\" agents sorted by their \"who\" number. An additional array is also returned to list the energy of the corresponding agents.\n",
    "\n",
    "The report function directly passes a string to the NetLogo instance, so that the command syntax may need to be adjusted depending on the version. The NL_VERSION property of the link object can be used to check the current version."
   ]
  },
  {
   "cell_type": "code",
   "execution_count": null,
   "metadata": {
    "collapsed": false
   },
   "outputs": [],
   "source": [
    "if netlogo.NL_VERSION == '6.0':\n",
    "    x = netlogo.report('map [[?1] -> [xcor] of ?1] sort sheep')\n",
    "    y = netlogo.report('map [[?1] -> [ycor] of ?1] sort sheep')\n",
    "    energy = netlogo.report('map [[?1] -> [energy] of ?1] sort sheep')\n",
    "else:\n",
    "    x = netlogo.report('map [[xcor] of ?1] sort sheep')\n",
    "    y = netlogo.report('map [[ycor] of ?1] sort sheep')\n",
    "    energy = netlogo.report('map [[energy] of ?1] sort sheep')"
   ]
  },
  {
   "cell_type": "markdown",
   "metadata": {},
   "source": [
    "We can then plot the coordinates of the agents on a scatter plot, with an additional color dimension to illustrate each agent's energy value.\n",
    "\n",
    "Similarly, still using the basic report function, we can generate histograms from the arrays containing energy values for the sheep and wolf agents."
   ]
  },
  {
   "cell_type": "code",
   "execution_count": null,
   "metadata": {
    "collapsed": false
   },
   "outputs": [],
   "source": [
    "sns.set_style('white')\n",
    "\n",
    "fig, ax = plt.subplots(1, 2)\n",
    "sc = ax[0].scatter(x, y, s=50, c=energy, cmap=plt.cm.coolwarm)\n",
    "ax[0].set_xlabel('xcor')\n",
    "ax[0].set_ylabel('ycor')\n",
    "cbar = fig.colorbar(sc, ax=ax[0])\n",
    "cbar.set_label('Energy of sheep')\n",
    "\n",
    "energy_1 = netlogo.report('[energy] of sheep')\n",
    "energy_2 = netlogo.report('[energy] of wolves')\n",
    "\n",
    "sns.distplot(energy_1, kde=False, ax=ax[1], label='Sheep')\n",
    "sns.distplot(energy_2, kde=False, ax=ax[1], label='Wolves')\n",
    "ax[1].set_xlabel('Energy')\n",
    "plt.legend()\n",
    "plt.show()"
   ]
  },
  {
   "cell_type": "markdown",
   "metadata": {},
   "source": [
    "The repeat_report function returns a Pandas dataframe containing reported values over a given number of ticks, for one or multiple reporters. The dataframe is indexed by ticks, with labeled columns for each reporter. In this case, we track the number of wolf and sheep agents over 200 ticks; the outcomes are first plotted as a function of time. The number of wolf agents is then plotted as a function of the number of sheep agents, to approximate a phase-space plot. "
   ]
  },
  {
   "cell_type": "code",
   "execution_count": null,
   "metadata": {
    "collapsed": false
   },
   "outputs": [],
   "source": [
    "counts = netlogo.repeat_report(['count wolves','count sheep'], 200)\n",
    "\n",
    "fig, ax = plt.subplots(1, 2)\n",
    "counts[['count wolves','count sheep']].plot(x=counts.index, ax=ax[0])\n",
    "ax[0].set_xlabel('Ticks')\n",
    "ax[1].plot(counts['count wolves'], counts['count sheep'])\n",
    "ax[1].set_xlabel('Wolves')\n",
    "ax[1].set_ylabel('Sheep')\n",
    "plt.show()"
   ]
  },
  {
   "cell_type": "markdown",
   "metadata": {},
   "source": [
    "The repeat_report function can also be used with reporters that return an array. In this case, we track the energy of the wolf and sheep agents over 5 ticks, and plot the distribution of the wolves' energy at the final tick recorded in the dataframe."
   ]
  },
  {
   "cell_type": "code",
   "execution_count": null,
   "metadata": {
    "collapsed": false
   },
   "outputs": [],
   "source": [
    "energy_df = netlogo.repeat_report(['[energy] of wolves', '[energy] of sheep'], 5)\n",
    "\n",
    "fig, ax = plt.subplots(1)\n",
    "sns.distplot(energy_df['[energy] of wolves'].iloc[-1], kde=False, ax=ax)\n",
    "ax.set_xlabel('Energy')\n",
    "plt.show()"
   ]
  },
  {
   "cell_type": "markdown",
   "metadata": {},
   "source": [
    "Finally, the patch_report function is used to return a dataframe which (for this example) contains the 'pcolor' attribute of each NetLogo patch. This dataframe essentially replicates the NetLogo environment, with column labels corresponding to the xcor patch coordinates, and indices following the pycor coordinates."
   ]
  },
  {
   "cell_type": "code",
   "execution_count": null,
   "metadata": {
    "collapsed": false
   },
   "outputs": [],
   "source": [
    "pcolor_df = netlogo.patch_report('pcolor')\n",
    "\n",
    "fig, ax = plt.subplots(1)\n",
    "patches = sns.heatmap(pcolor_df, xticklabels=5, yticklabels=5, cbar_kws={'label':'pcolor'}, ax=ax)\n",
    "ax.set_xlabel('pxcor')\n",
    "ax.set_ylabel('pycor')\n",
    "plt.show()"
   ]
  },
  {
   "cell_type": "markdown",
   "metadata": {},
   "source": [
    "The dataframes can be manipulated with any of the existing Pandas functions, for instance by exporting to an Excel file. The patch_set function provides the inverse functionality to patch_report, and updates the NetLogo environment from a dataframe."
   ]
  },
  {
   "cell_type": "code",
   "execution_count": null,
   "metadata": {
    "collapsed": true
   },
   "outputs": [],
   "source": [
    "pcolor_df.to_excel('pcolor.xlsx')\n",
    "netlogo.patch_set('pcolor', pcolor_df/2)"
   ]
  },
  {
   "cell_type": "markdown",
   "metadata": {},
   "source": [
    "Finally, the kill_workspace() function shuts down the NetLogo instance."
   ]
  },
  {
   "cell_type": "code",
   "execution_count": null,
   "metadata": {
    "collapsed": true
   },
   "outputs": [],
   "source": [
    "netlogo.kill_workspace()"
   ]
  }
 ],
 "metadata": {
  "kernelspec": {
   "display_name": "Python 2",
   "language": "python",
   "name": "python2"
  },
  "language_info": {
   "codemirror_mode": {
    "name": "ipython",
    "version": 2
   },
   "file_extension": ".py",
   "mimetype": "text/x-python",
   "name": "python",
   "nbconvert_exporter": "python",
   "pygments_lexer": "ipython2",
   "version": "2.7.11"
  }
 },
 "nbformat": 4,
 "nbformat_minor": 0
}
